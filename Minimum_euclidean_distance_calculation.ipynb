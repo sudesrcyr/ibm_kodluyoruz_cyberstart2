{
 "cells": [
  {
   "cell_type": "code",
   "execution_count": 7,
   "id": "7c300971",
   "metadata": {},
   "outputs": [
    {
     "name": "stdout",
     "output_type": "stream",
     "text": [
      "Distances between points: [4.123105625617661, 6.0, 8.0, 2.23606797749979, 4.123105625617661, 2.0]\n",
      "Minimum distance: 2.0\n"
     ]
    }
   ],
   "source": [
    "import math\n",
    "\n",
    "# Step1: Define the points list\n",
    "points = [(5, 2), (4, 6), (5, 8), (5, 10)]\n",
    "\n",
    "# Step2: Define the euclideanDistance function\n",
    "def euclideanDistance(point1, point2):\n",
    "    return math.sqrt((point2[0] - point1[0]) ** 2 + (point2[1] - point1[1]) ** 2)\n",
    "\n",
    "# Step3: Calculate distances between each pair of points\n",
    "distances = []\n",
    "for i in range(len(points)):\n",
    "    for j in range(i + 1, len(points)):\n",
    "        dist = euclideanDistance(points[i], points[j])\n",
    "        distances.append(dist)\n",
    "\n",
    "# Step4: Find the minimum distance\n",
    "min_distance = min(distances)\n",
    "\n",
    "# Print the results\n",
    "print(\"Distances between points:\", distances)\n",
    "print(\"Minimum distance:\", min_distance)\n"
   ]
  }
 ],
 "metadata": {
  "kernelspec": {
   "display_name": "Python 3 (ipykernel)",
   "language": "python",
   "name": "python3"
  },
  "language_info": {
   "codemirror_mode": {
    "name": "ipython",
    "version": 3
   },
   "file_extension": ".py",
   "mimetype": "text/x-python",
   "name": "python",
   "nbconvert_exporter": "python",
   "pygments_lexer": "ipython3",
   "version": "3.9.7"
  }
 },
 "nbformat": 4,
 "nbformat_minor": 5
}
